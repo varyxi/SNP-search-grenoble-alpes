{
 "cells": [
  {
   "cell_type": "markdown",
   "id": "423f1581-2cb6-4938-b747-40ab91dfe6d6",
   "metadata": {},
   "source": [
    "## Data Preprocessing\n",
    "\n",
    "This stage includes some data manipulations"
   ]
  },
  {
   "cell_type": "code",
   "execution_count": 3,
   "id": "f0ddc343-171c-439b-9885-4393ad8998d2",
   "metadata": {},
   "outputs": [],
   "source": [
    "import random\n",
    "import re\n",
    "from tqdm import tqdm\n",
    "import numpy as np\n",
    "import matplotlib.pyplot as plt\n",
    "import seaborn as sns\n",
    "\n",
    "from typing import List, Dict, Tuple, Set\n",
    "import time\n",
    "from tqdm import tqdm\n",
    "import os\n",
    "import json\n",
    "import copy\n",
    "\n",
    "import Bio.SeqIO\n",
    "from Bio import Entrez"
   ]
  },
  {
   "cell_type": "code",
   "execution_count": 5,
   "id": "041ea7ff-add9-4d20-ac91-da8516bcac1d",
   "metadata": {},
   "outputs": [],
   "source": [
    "ORIGINAL_DATA_PATH = \"salmonella-enterica.reads.fna\"\n",
    "RESISTANT_DATA_PATH = \"salmonella-enterica-variant.reads.fna\"\n",
    "\n",
    "KMERS_DICTS_PATH = 'kmers_values_clear'"
   ]
  },
  {
   "cell_type": "code",
   "execution_count": 7,
   "id": "344f9be5-83d0-4a0d-8930-fba49ad67645",
   "metadata": {},
   "outputs": [
    {
     "name": "stdout",
     "output_type": "stream",
     "text": [
      "CPU times: user 12.8 s, sys: 599 ms, total: 13.4 s\n",
      "Wall time: 13.6 s\n"
     ]
    },
    {
     "data": {
      "text/plain": [
       "(1993167, 1993167)"
      ]
     },
     "execution_count": 7,
     "metadata": {},
     "output_type": "execute_result"
    }
   ],
   "source": [
    "%%time\n",
    "data = {}\n",
    "data['orig'] = list(Bio.SeqIO.parse(ORIGINAL_DATA_PATH, \"fasta\"))\n",
    "data['resist'] = list(Bio.SeqIO.parse(RESISTANT_DATA_PATH, \"fasta\"))\n",
    "len(data['orig']), len(data['resist'])"
   ]
  },
  {
   "cell_type": "code",
   "execution_count": 8,
   "id": "72819547-66a8-4903-aa56-4efdb4801414",
   "metadata": {},
   "outputs": [
    {
     "name": "stdout",
     "output_type": "stream",
     "text": [
      "CPU times: user 1.31 s, sys: 225 ms, total: 1.54 s\n",
      "Wall time: 1.56 s\n"
     ]
    },
    {
     "data": {
      "text/plain": [
       "(1943902, 1944055)"
      ]
     },
     "execution_count": 8,
     "metadata": {},
     "output_type": "execute_result"
    }
   ],
   "source": [
    "%%time\n",
    "\n",
    "# transform into usual python types (set(str))\n",
    "for key, value in data.items():\n",
    "    data[key] = set([str(read.seq) for read in value])\n",
    "len(data['orig']), len(data['resist'])"
   ]
  },
  {
   "cell_type": "markdown",
   "id": "64c90e7a-23a2-445b-8f0b-0de9b8b96442",
   "metadata": {},
   "source": [
    "There is a significant part of repetitions in data. It is possibly \"second circle\" of reading. Anyway, it seems not informative. We will try to work without repetitions."
   ]
  },
  {
   "cell_type": "code",
   "execution_count": 10,
   "id": "d9f235ff-4723-40b5-9eec-e368b6691e1a",
   "metadata": {},
   "outputs": [
    {
     "name": "stdout",
     "output_type": "stream",
     "text": [
      "250 250\n",
      "250 250\n"
     ]
    }
   ],
   "source": [
    "# count reads lengths to avoid statistical mistakes\n",
    "read_lengths = {key: [] for key in data}\n",
    "for key, value in data.items():\n",
    "    read_lengths[key] = [len(read) for read in random.sample(list(data[key]), 10000)]\n",
    "    print(min(read_lengths[key]), max(read_lengths[key]))"
   ]
  },
  {
   "cell_type": "markdown",
   "id": "8b70cb3a-67c6-4569-ae45-05ba9486b2ad",
   "metadata": {},
   "source": [
    "## Hyperparameters search"
   ]
  },
  {
   "cell_type": "markdown",
   "id": "bff0f166-fb77-4180-b848-4447ca0ef60c",
   "metadata": {},
   "source": [
    "### k for k-mers search"
   ]
  },
  {
   "cell_type": "markdown",
   "id": "20e043a8-66eb-4d9e-a51d-cfb70ed2658e",
   "metadata": {},
   "source": [
    "The main hyperparameter to be found is k for k-mer. Too small k will generate a high frequency of k-mers because they will no longer be unique parts of the genome. Too large k, on the other hand, will produce too low a frequency due to the small number of reads overlapping of that length.\\It is also worth noting that from a computational point of view, small k's are slightly more favourable, both in terms of time and memory."
   ]
  },
  {
   "cell_type": "code",
   "execution_count": 14,
   "id": "99da3baf-6f43-43fd-9d02-7365f2faaf85",
   "metadata": {},
   "outputs": [],
   "source": [
    "class KSearcher:\n",
    "    def __init__(self, num_reads=1_944_055, size_read=250, true_genome_size=4_857_450):\n",
    "        self.L = size_read\n",
    "        self.N = num_reads\n",
    "        # multiplying G by 2 because we don't have any infornation about right/reverse writing\n",
    "        self.G = 2*true_genome_size\n",
    "        self.eta = 0.01\n",
    "        self.reverse = {'A': 'T', 'T': 'A', 'C': 'G', 'G': 'C'}\n",
    "        self.bacteria2index = {'orig': 0, 'resist': 1}\n",
    "\n",
    "    def reverse_dnk(self, seq: str) -> str:\n",
    "        reversed = ''\n",
    "        for nucl in seq:\n",
    "            reversed += self.reverse[nucl]\n",
    "        return reversed\n",
    "\n",
    "    def count_kmers(self, full_reads: Dict[str, set[str]], k: int, return_values_only=False) -> Dict[str, List[int]]:\n",
    "        dict_kmers = {}\n",
    "        for bacteria, reads in full_reads.items():\n",
    "            for read in reads:\n",
    "                for i in range(self.L-k+1):\n",
    "                    k_mer = read[i:i+k]\n",
    "                    if k_mer not in dict_kmers:\n",
    "                        dict_kmers[k_mer] = [0, 0]\n",
    "                    dict_kmers[k_mer][self.bacteria2index[bacteria]] += 1\n",
    "        if return_values_only:\n",
    "            return list(dict_kmers.values())\n",
    "        return dict_kmers\n",
    "\n",
    "    def count_approx_distribution(self, k):\n",
    "        E_Ck = self.N * (self.L - k + 1) / (self.G - self.L + 1)\n",
    "        p0 = (1-self.eta)**k\n",
    "        return E_Ck, p0\n",
    "\n",
    "    def count_kmers_number(self, k):\n",
    "        return int(self.N * (self.L - k + 1))"
   ]
  },
  {
   "cell_type": "code",
   "execution_count": 255,
   "id": "7b2ef203-f2e2-47fa-af3e-017169db3565",
   "metadata": {},
   "outputs": [
    {
     "name": "stderr",
     "output_type": "stream",
     "text": [
      "100%|████████████████████████████████████████████| 4/4 [57:09<00:00, 857.28s/it]\n"
     ]
    }
   ],
   "source": [
    "# We will count k-mers distributions with several k\n",
    "\n",
    "default_searcher = KSearcher()\n",
    "bacteria2len = {'orig': len(data['orig']), 'resist': len(data['resist'])}\n",
    "\n",
    "for k in tqdm(range(11, 19, 2)):\n",
    "    approx_distrs = {'orig': [], 'resist': []}\n",
    "    start_time = time.time()\n",
    "    kmers_values = default_searcher.count_kmers(data, k=k, return_values_only=True)\n",
    "    for key in data.keys():\n",
    "        searcher = KSearcher(num_reads=bacteria2len[key])\n",
    "        approx_distrs[key] = list(searcher.count_approx_distribution(k))\n",
    "    with open(os.path.join(KMERS_DICTS_PATH, str(k) + '.json'), 'w') as f:\n",
    "        json.dump({'kmers_values': kmers_values, 'theor_distr': list(approx_distrs.values()), 'counting_time': time.time()-start_time}, f)"
   ]
  },
  {
   "cell_type": "code",
   "execution_count": 202,
   "id": "f765c4c9-c66a-4be1-8407-c6445c07931c",
   "metadata": {},
   "outputs": [
    {
     "name": "stderr",
     "output_type": "stream",
     "text": [
      "100%|████████████████████████████████████████████| 4/4 [48:17<00:00, 724.27s/it]\n"
     ]
    }
   ],
   "source": [
    "for k in tqdm(range(19, 27, 2)):\n",
    "    approx_distrs = {'orig': [], 'resist': []}\n",
    "    start_time = time.time()\n",
    "    kmers_values = default_searcher.count_kmers(data, k=k, return_values_only=True)\n",
    "    for key in data.keys():\n",
    "        searcher = KSearcher(num_reads=bacteria2len[key])\n",
    "        approx_distrs[key] = list(searcher.count_approx_distribution(k))\n",
    "    with open(os.path.join(KMERS_DICTS_PATH, str(k) + '.json'), 'w') as f:\n",
    "        json.dump({'kmers_values': kmers_values, 'theor_distr': list(approx_distrs.values()), 'counting_time': time.time()-start_time}, f)"
   ]
  },
  {
   "cell_type": "code",
   "execution_count": 16,
   "id": "61c1c261-d2f7-4198-92be-54ddf0aa0b9d",
   "metadata": {},
   "outputs": [],
   "source": [
    "index2name = {0: 'original', 1: 'resistant'}\n",
    "def vizualize(k: int, limits: Tuple[int, int]=(8,150)):\n",
    "    '''\n",
    "    This finction vizualizes both empirical and theoretical distributions. Prints number of kmers that are preliminarily valid.\n",
    "    '''\n",
    "    with open(os.path.join(KMERS_DICTS_PATH, str(k) + '.json')) as f:\n",
    "        full_info = json.load(f)\n",
    "    kmers_values = [[value[i] for value in full_info['kmers_values'] if limits[0]<value[i]<limits[1]] for i in range(2)]\n",
    "    theor_params = full_info['theor_distr']\n",
    "    fig, ax = plt.subplots(1,2, figsize=(10,4))\n",
    "    fig.suptitle(f'Distributions for {k}')\n",
    "    for i in range(2):\n",
    "        treor_ditrib = np.random.binomial(theor_params[i][0], theor_params[i][1], len(kmers_values[i]))\n",
    "        print(f'{index2name[i]} bactria: preliminarily valid kmers number = {len(kmers_values[i])}')\n",
    "        sns.histplot({'theoretical': treor_ditrib, 'empirical': kmers_values[i]}, ax=ax[i], bins=70)\n",
    "        ax[i].set_title(f'{index2name[i]} bacteria')\n",
    "    plt.show()\n",
    "    return"
   ]
  },
  {
   "cell_type": "code",
   "execution_count": 28,
   "id": "31bb73a9-1150-47f6-a499-9b0a84dc50d3",
   "metadata": {},
   "outputs": [
    {
     "name": "stdout",
     "output_type": "stream",
     "text": [
      "original bactria: preliminarily valid kmers number = 1971788\n",
      "resistant bactria: preliminarily valid kmers number = 1972778\n"
     ]
    },
    {
     "data": {
      "image/png": "[encoded data removed]",
      "text/plain": [
       "<Figure size 1000x400 with 2 Axes>"
      ]
     },
     "metadata": {},
     "output_type": "display_data"
    }
   ],
   "source": [
    "vizualize(11)"
   ]
  },
  {
   "cell_type": "code",
   "execution_count": 30,
   "id": "3f61177e-8cdb-432c-ad7a-39d44d944914",
   "metadata": {},
   "outputs": [
    {
     "name": "stdout",
     "output_type": "stream",
     "text": [
      "original bactria: preliminarily valid kmers number = 9574756\n",
      "resistant bactria: preliminarily valid kmers number = 9574559\n"
     ]
    },
    {
     "data": {
      "image/png": "[encoded data removed]",
      "text/plain": [
       "<Figure size 1000x400 with 2 Axes>"
      ]
     },
     "metadata": {},
     "output_type": "display_data"
    }
   ],
   "source": [
    "vizualize(15)"
   ]
  },
  {
   "cell_type": "code",
   "execution_count": 31,
   "id": "b442d3e9-af47-4050-afa1-73114e69c078",
   "metadata": {},
   "outputs": [
    {
     "name": "stdout",
     "output_type": "stream",
     "text": [
      "original bactria: preliminarily valid kmers number = 9750275\n",
      "resistant bactria: preliminarily valid kmers number = 9750141\n"
     ]
    },
    {
     "data": {
      "image/png": "[encoded data removed]",
      "text/plain": [
       "<Figure size 1000x400 with 2 Axes>"
      ]
     },
     "metadata": {},
     "output_type": "display_data"
    }
   ],
   "source": [
    "vizualize(17)"
   ]
  },
  {
   "cell_type": "code",
   "execution_count": 32,
   "id": "7b7809a6-96d0-4b30-a00f-40fd7f384c98",
   "metadata": {},
   "outputs": [
    {
     "name": "stdout",
     "output_type": "stream",
     "text": [
      "original bactria: preliminarily valid kmers number = 9792747\n",
      "resistant bactria: preliminarily valid kmers number = 9792719\n"
     ]
    },
    {
     "data": {
      "image/png": "[encoded data removed]",
      "text/plain": [
       "<Figure size 1000x400 with 2 Axes>"
      ]
     },
     "metadata": {},
     "output_type": "display_data"
    }
   ],
   "source": [
    "vizualize(25)"
   ]
  },
  {
   "cell_type": "markdown",
   "id": "a62e88f5-52db-4508-9051-75c1c0630beb",
   "metadata": {},
   "source": [
    "As we can see, the distribution starting with 17 is almost constant. At a value of 15, there is still a small number of data logically to the right of the theoretical values. However, as k increases, bias accumulates. Taking into account all factors, we take **k=17**. The empirical data still has larger variance, but the distribution form at k=17 became closer to the theoretical one."
   ]
  },
  {
   "cell_type": "markdown",
   "id": "e8bbb08d-9b8f-40c6-815d-71f9585f55c6",
   "metadata": {},
   "source": [
    "### min & max thresholds search"
   ]
  },
  {
   "cell_type": "markdown",
   "id": "a6e80459-477b-45a1-b0ed-df584edb6246",
   "metadata": {},
   "source": [
    "As we know, there are errors in the data. There can also be k-mers that occur too often in the genome (too many genes contain this particular sequence of nucleotides). Both of these types - too frequent and too rare nucleotides - are not informative. Therefore, it is necessary to find the minimum and maximum number of k-mer threshholds.\\\n",
    "We will go the practical bootstrap way: we will generate samples from the theoretical distribution and look at the minimum and maximum. Then we will construct confidence intervals and take their left and right points for the minimum and maximum, respectively.\\\n",
    "Since the difference in the number of reads between the genomes of the resistant and original bacteria is relatively small, we will ignore it and take the average in order to save computational resources."
   ]
  },
  {
   "cell_type": "code",
   "execution_count": 175,
   "id": "d2199aea-b458-446c-bcf5-9f1df64768fd",
   "metadata": {},
   "outputs": [],
   "source": [
    "class ThresholdSearcher:\n",
    "    def __init__(self, k):\n",
    "        self.k = k\n",
    "        self.distib_searcher = KSearcher(num_reads = np.mean([len(data['orig']), len(data['resist'])]))\n",
    "        self.beta = 0.95\n",
    "        self.sample_size = 10_000\n",
    "\n",
    "    def __collect_values(self, batch_size=10**6, kmers_number = 10**6):\n",
    "        theor_params = self.distib_searcher.count_approx_distribution(self.k)\n",
    "        kmers_number = 10**6\n",
    "        mins, maxs = [], []\n",
    "        for num in tqdm(range(self.sample_size)):\n",
    "            current_min, current_max = np.inf, -np.inf\n",
    "            if kmers_number < 10**7:\n",
    "                sample = np.random.binomial(theor_params[0], theor_params[1], kmers_number)\n",
    "                current_min = min(sample)\n",
    "                current_max = max(sample)\n",
    "            # we can find min and max using batches, if number of sample can be too large for RAM\n",
    "            else:\n",
    "                current_min, current_max = np.inf, -np.inf\n",
    "                for batch in range(kmers_number//batch_size):\n",
    "                    sample = np.random.binomial(theor_params[0], theor_params[1], batch_size)\n",
    "            mins.append(current_min)\n",
    "            maxs.append(current_max)\n",
    "        return mins, maxs\n",
    "\n",
    "    def call(self):\n",
    "        mins_sample, maxs_sample = self.__collect_values()\n",
    "        left_quantile = (1-self.beta) / 2\n",
    "        right_quantile = (1+self.beta) / 2\n",
    "        min_limit = np.quantile(mins_sample, left_quantile)\n",
    "        max_limit = np.quantile(maxs_sample, right_quantile)\n",
    "        return min_limit, max_limit"
   ]
  },
  {
   "cell_type": "code",
   "execution_count": 177,
   "id": "a4113982-fa34-466c-a91b-7d05280e3414",
   "metadata": {},
   "outputs": [
    {
     "name": "stderr",
     "output_type": "stream",
     "text": [
      "100%|█████████████████████████████████████| 10000/10000 [15:08<00:00, 11.01it/s]"
     ]
    },
    {
     "name": "stdout",
     "output_type": "stream",
     "text": [
      "CPU times: user 15min 2s, sys: 5.97 s, total: 15min 8s\n",
      "Wall time: 15min 8s\n"
     ]
    },
    {
     "name": "stderr",
     "output_type": "stream",
     "text": [
      "\n"
     ]
    },
    {
     "data": {
      "text/plain": [
       "(23.0, 46.0)"
      ]
     },
     "execution_count": 177,
     "metadata": {},
     "output_type": "execute_result"
    }
   ],
   "source": [
    "%%time\n",
    "min_limit, max_limit = ThresholdSearcher(17).call()\n",
    "min_limit, max_limit"
   ]
  },
  {
   "cell_type": "markdown",
   "id": "7be27bbb-a1d5-49da-8c94-e141f701d675",
   "metadata": {},
   "source": [
    "From the graphs above we can see that in the practical distribution there is a certain shift to the right. Therefore, let's take the value of threshhold for the maximum a little more.\\\n",
    "Let min threshhold be 23; max threshhold 60."
   ]
  },
  {
   "cell_type": "markdown",
   "id": "2862218e-7cf6-4c57-867e-0b6467936f80",
   "metadata": {},
   "source": [
    "## SNPs search"
   ]
  },
  {
   "cell_type": "markdown",
   "id": "db4f1a70-5f5b-4e8b-a8d5-3ffebb7130d0",
   "metadata": {},
   "source": [
    "At this stage, we suppose that we have clear data without errors. Consequently, we can compare *kmers* in original and resistant bacteria. Mutated ones have to be in resistant bacteria. At their places there are original kmers that are not in resistant kmers."
   ]
  },
  {
   "cell_type": "markdown",
   "id": "cafe73a4-2ea8-4a49-bbb4-9399bc4852e4",
   "metadata": {},
   "source": [
    "In detail:\n",
    " - Firstly, we find *candidates* - kmers that are in one (e.g. resistant) bacteria, but not in another (e.g. original).\n",
    " - Secondly, we build possible sequences of *candidates*, as one mutated nucliotide has to born $\\approx$ k such kmers.\n",
    " - Thirdly, we try to find matches between resistant and original candidates using count vectorizing (counting places in strings with different nucleotides)"
   ]
  },
  {
   "cell_type": "code",
   "execution_count": 303,
   "id": "52f12b49-2e6f-4f1b-b55a-7331ff692ab1",
   "metadata": {},
   "outputs": [],
   "source": [
    "class MutationPlaceSearcher():\n",
    "    def __init__(self, k):\n",
    "        self.k = k\n",
    "        self.recursive_depth = k\n",
    "        self.k_searcher = KSearcher()\n",
    "        self.index2bacteria = {0: 'orig', 1: 'resist'}\n",
    "        self.min_threshold = 23\n",
    "        self.max_threshold = 60\n",
    "\n",
    "    def __find_candidates(self, full_reads: Dict[str, List[int]]) -> Dict[str, Set[str]]:\n",
    "        kmers_dicts = self.k_searcher.count_kmers(full_reads, k=self.k, return_values_only=False)\n",
    "        result = {key: set() for key in full_reads}\n",
    "        for kmer, kmer_count in kmers_dicts.items():\n",
    "            if min(kmer_count) == 0 and self.min_threshold < max(kmer_count) < self.max_threshold:\n",
    "                result[self.index2bacteria[np.argmax(kmer_count)]].add(kmer)\n",
    "        return result\n",
    "\n",
    "    def __make_sequences(self, candidates: Set[str]) -> List[Tuple[str, str]]:\n",
    "        sequences = copy.deepcopy(candidates)\n",
    "        final_sequences = []\n",
    "        for start_seq in sequences:\n",
    "            is_cand = True\n",
    "            cand = start_seq\n",
    "            sequence = cand\n",
    "            for rec_depth in range(self.recursive_depth):\n",
    "                flag_14 = False\n",
    "                var13 = None\n",
    "                for next_cand in sequences:\n",
    "                    if next_cand == start_seq:\n",
    "                        continue\n",
    "                    if cand[-self.k+1:] == next_cand[:self.k-1]:\n",
    "                        flag_14 = True\n",
    "                        sequence += next_cand[-1]\n",
    "                        break\n",
    "                    elif cand[-self.k+2:] == next_cand[:self.k-1]:\n",
    "                        var13 = next_cand\n",
    "                if not flag_14:\n",
    "                    if var13:\n",
    "                        next_cand = var13\n",
    "                        sequence += next_cand[-2:]\n",
    "                    else:\n",
    "                        is_cand = False\n",
    "                        break\n",
    "                cand = next_cand\n",
    "            final_sequences.append(sequence)\n",
    "        final_sequences = sorted(final_sequences, key=lambda s: s[::-1])\n",
    "        prev = 'biology'\n",
    "        for seq in copy.deepcopy(final_sequences):\n",
    "            if prev in seq:\n",
    "                final_sequences.remove(prev)\n",
    "            prev = seq\n",
    "        return final_sequences\n",
    "\n",
    "    def distance(self, kmer1: str, kmer2: str) -> int:\n",
    "        dist = 0\n",
    "        dif_places = []\n",
    "        if len(kmer1) != len(kmer2):\n",
    "            raise ValueError('distance can be counted only for sequences of equal length')\n",
    "        for i, symb1 in enumerate(kmer1):\n",
    "            if symb1 != kmer2[i]:\n",
    "                dist += 1\n",
    "                dif_places.append(i)\n",
    "        return dist, dif_places\n",
    "\n",
    "    def __find_nearest_neighbors(self, sequences_orig: Set[str], sequences_resist: Set[str], threshold:int=None, topn_cands:int = 2) -> List[Tuple[str, str, int]]:\n",
    "        if not threshold:\n",
    "            threshold=self.k//3\n",
    "        result = []\n",
    "        pairs = {}\n",
    "        for seq_orig in sequences_orig:\n",
    "            pairs[seq_orig] = []\n",
    "            for seq_res in sequences_resist:\n",
    "                min_distance = self.k * 2\n",
    "                min_places = []\n",
    "                if len(seq_res) > len(seq_orig):\n",
    "                    long, short = seq_res, seq_orig\n",
    "                else:\n",
    "                    short, long = seq_res, seq_orig\n",
    "                for start_symb in range(len(long)-len(short)+1):\n",
    "                    dist, dif_places = self.distance(long[start_symb : start_symb + len(short)], short)\n",
    "                    if dist < min_distance:\n",
    "                        min_distance = dist\n",
    "                        min_places = dif_places\n",
    "                if min_distance < threshold:\n",
    "                    pairs[seq_orig].append((seq_res, min_distance, min_places))\n",
    "\n",
    "            pairs[seq_orig] = sorted(pairs[seq_orig], key=lambda x: x[1])[:topn_cands]\n",
    "            result.extend([(seq_orig, elem[0], elem[1], elem[2]) for elem in pairs[seq_orig]])\n",
    "        return result\n",
    "\n",
    "    def for_test(self, full_reads: Dict[str, List[int]]):\n",
    "        candidates = self.__find_candidates(full_reads)\n",
    "        sequences = {type_bacteria: self.__make_sequences(cands) for type_bacteria, cands in candidates.items()}\n",
    "        return sequences\n",
    "    \n",
    "    def postprocess(self, sequences: List[str], full_reads: Dict[str, List[int]], length:int=100) -> [Tuple[str, str]]:\n",
    "        '''\n",
    "        finds reads with given sequences and outputs subsequences of length {length}\n",
    "        '''\n",
    "        result = {}\n",
    "        for i, seq in enumerate(sequences):\n",
    "            type_bacteria = self.index2bacteria[i]\n",
    "            need2add = length - len(seq)\n",
    "            for read in full_reads[type_bacteria]:\n",
    "                if seq in read:\n",
    "                    start_seq_index = read.find(seq)\n",
    "                    left_limit = max(start_seq_index - need2add//2, 0)\n",
    "                    result[type_bacteria] = read[left_limit:left_limit+need2add]\n",
    "        return result\n",
    "\n",
    "    def call(self, full_reads: Dict[str, Set[str]]) -> Tuple[str, str, int, List[int]]:\n",
    "        candidates = self.__find_candidates(full_reads)\n",
    "        sequences = {type_bacteria: self.__make_sequences(cands) for type_bacteria, cands in candidates.items()}\n",
    "        pairs = self.__find_nearest_neighbors(sequences[self.index2bacteria[0]], sequences[self.index2bacteria[1]])\n",
    "        for i, pair in enumerate(pairs):\n",
    "            pairs[i] = (pair[1], pair[0], pair[2], pair[3])\n",
    "            if len(pair[0]) < len(pair[1]):\n",
    "                pairs[i] += (0, )\n",
    "            else:\n",
    "                pairs[i] += (1, )\n",
    "        return pairs"
   ]
  },
  {
   "cell_type": "code",
   "execution_count": 195,
   "id": "c4483360-3264-4ed4-8222-520799992eeb",
   "metadata": {},
   "outputs": [
    {
     "name": "stdout",
     "output_type": "stream",
     "text": [
      "CPU times: user 3min 57s, sys: 2min 11s, total: 6min 9s\n",
      "Wall time: 6min 30s\n"
     ]
    }
   ],
   "source": [
    "%%time\n",
    "mutate_searcher = MutationPlaceSearcher(17)\n",
    "pairs17 = mutate_searcher.call(data)"
   ]
  },
  {
   "cell_type": "code",
   "execution_count": 196,
   "id": "46e5ce58-171e-4158-95a9-54a86edbe746",
   "metadata": {},
   "outputs": [
    {
     "name": "stdout",
     "output_type": "stream",
     "text": [
      "Sequence with mutation: AGGTTTAACAACCCGTCCCCTCGCCCAGAAGCTA\n",
      "Analogical sequence without mutation: AGGTTTAACAACCCGTAAACTCGCCCAGAAGCTA\n",
      "Number of mutated nucleotides: 3\n",
      "Indexes of mutated nucliotides: [16, 17, 18] in 2 sequence\n",
      "\n",
      "Sequence with mutation: CTAGCTTCTGGGCGAGGGGACGGGTTGTTAAACC\n",
      "Analogical sequence without mutation: CTAGCTTCTGGGCGAGTTTACGGGTTGTTAAACC\n",
      "Number of mutated nucleotides: 3\n",
      "Indexes of mutated nucliotides: [16, 17, 18] in 2 sequence\n",
      "\n",
      "Sequence with mutation: GGTTTAACAACCCGTCCCCTCGCCCAGAAGCTAG\n",
      "Analogical sequence without mutation: GGTTTAACAACCCGTAAACTCGCCCAGAAGCTAG\n",
      "Number of mutated nucleotides: 3\n",
      "Indexes of mutated nucliotides: [15, 16, 17] in 2 sequence\n",
      "\n",
      "Sequence with mutation: TAGCTTCTGGGCGAGGGGACGGGTTGTTAAACCT\n",
      "Analogical sequence without mutation: TAGCTTCTGGGCGAGTTTACGGGTTGTTAAACCT\n",
      "Number of mutated nucleotides: 3\n",
      "Indexes of mutated nucliotides: [15, 16, 17] in 2 sequence\n"
     ]
    }
   ],
   "source": [
    "result = '\\n\\n'.join([f'Sequence with mutation: {pair[0]}\\nAnalogical sequence without mutation: {pair[1]}\\nNumber of mutated nucleotides: {pair[2]}\\nIndexes of mutated nucliotides: {pair[3]} in {pair[4]+1} sequence' for pair in pairs17])\n",
    "print(result)"
   ]
  },
  {
   "cell_type": "markdown",
   "id": "b565b756-abae-426c-af55-729310b5f41a",
   "metadata": {},
   "source": [
    "*Two last sequences are just parts of two first sequences. It can be postprocessed.*"
   ]
  },
  {
   "cell_type": "code",
   "execution_count": 243,
   "id": "1195ecb1-191a-4773-acd1-97183c757ea1",
   "metadata": {},
   "outputs": [
    {
     "name": "stdout",
     "output_type": "stream",
     "text": [
      "CPU times: user 2.18 s, sys: 7.48 ms, total: 2.19 s\n",
      "Wall time: 2.2 s\n"
     ]
    },
    {
     "data": {
      "text/plain": [
       "{'orig': 'CGCATTAGAGCTGCTTAATGAGGTCGGAATCGAAGGTTTAACAACCCGTAAACTCGCCCAGAAGCT',\n",
       " 'resist': 'CGCATTAGAGCTGCTTAATGAGGTCGGAATCGAAGGTTTAACAACCCGTCCCCTCGCCCAGAAGCT'}"
      ]
     },
     "execution_count": 243,
     "metadata": {},
     "output_type": "execute_result"
    }
   ],
   "source": [
    "%%time\n",
    "mutate_searcher = MutationPlaceSearcher(17)\n",
    "mutate_searcher.postprocess(['AGGTTTAACAACCCGTAAACTCGCCCAGAAGCTA', 'AGGTTTAACAACCCGTCCCCTCGCCCAGAAGCTA'], data)"
   ]
  },
  {
   "cell_type": "code",
   "execution_count": 330,
   "id": "4d42e4d3-e0be-4bc6-b645-1317c28b6e74",
   "metadata": {},
   "outputs": [
    {
     "data": {
      "text/plain": [
       "{'orig': 'TTACATGCCAATACAATGTAGGCTGCTCTACACCTAGCTTCTGGGCGAGTTTACGGGTTGTTAAAC',\n",
       " 'resist': 'TTACATGCCAATACAATGTAGGCTGCTCTACACCTAGCTTCTGGGCGAGGGGACGGGTTGTTAAAC'}"
      ]
     },
     "execution_count": 330,
     "metadata": {},
     "output_type": "execute_result"
    }
   ],
   "source": [
    "mutate_searcher.postprocess(['CTAGCTTCTGGGCGAGTTTACGGGTTGTTAAACC', 'CTAGCTTCTGGGCGAGGGGACGGGTTGTTAAACC'], data)"
   ]
  },
  {
   "cell_type": "markdown",
   "id": "14bcd750-e611-4ef6-be46-35162a043e9d",
   "metadata": {},
   "source": [
    "## Test"
   ]
  },
  {
   "cell_type": "markdown",
   "id": "5d7d235d-ee13-4b62-8cbd-0295ce1ec575",
   "metadata": {},
   "source": [
    "Let's test the algorithm on the same true genome. Let's modify a random kmer and try to find it with the same hyperparameters."
   ]
  },
  {
   "cell_type": "code",
   "execution_count": 245,
   "id": "78934f5d-7953-443f-ac16-59fba0a52ce6",
   "metadata": {},
   "outputs": [
    {
     "data": {
      "text/plain": [
       "('CA', 142)"
      ]
     },
     "execution_count": 245,
     "metadata": {},
     "output_type": "execute_result"
    }
   ],
   "source": [
    "test_index_read = random.choice(range(len(data['orig'])))\n",
    "test_read = list(data['orig'])[test_index_read]\n",
    "test_index_nucl = random.choice(range(250))\n",
    "test_read[test_index_nucl:test_index_nucl+2], test_index_nucl"
   ]
  },
  {
   "cell_type": "code",
   "execution_count": 247,
   "id": "41bf9115-bc4d-466d-8221-68751a16b7e1",
   "metadata": {},
   "outputs": [
    {
     "data": {
      "text/plain": [
       "('TTCCCGTTCATCTGAAA', 'TTCCCGTTGGTCTGAAA')"
      ]
     },
     "execution_count": 247,
     "metadata": {},
     "output_type": "execute_result"
    }
   ],
   "source": [
    "test_orig_kmer = test_read[test_index_nucl - 8 : test_index_nucl + 9]\n",
    "test_resist_read = test_read[:test_index_nucl] + 'GG' + test_read[test_index_nucl + 2:]\n",
    "test_resist_kmer = test_resist_read[test_index_nucl - 8 : test_index_nucl + 9]\n",
    "test_orig_kmer, test_resist_kmer"
   ]
  },
  {
   "cell_type": "code",
   "execution_count": 251,
   "id": "7918edb1-96f2-45d9-be2f-0b9377afd2dd",
   "metadata": {},
   "outputs": [],
   "source": [
    "k=17\n",
    "changed = []\n",
    "outs = 0\n",
    "data_test = {'orig': data['orig'], 'resist': set()}\n",
    "resist_temp = list(data['orig'])\n",
    "for j, read in enumerate(list(data['orig'])):\n",
    "    for i in range(250-17+1):\n",
    "        k_mer = read[i:i+k]\n",
    "        if k_mer == test_orig_kmer:\n",
    "            changed.append(j)\n",
    "            resist_temp[j] = read[:i] + test_resist_kmer + read[i+k:]\n",
    "data_test['resist'] = set(resist_temp)"
   ]
  },
  {
   "cell_type": "code",
   "execution_count": 311,
   "id": "31f7edfa-1f7b-4dd4-8e5b-1a7f31b945cf",
   "metadata": {},
   "outputs": [
    {
     "name": "stdout",
     "output_type": "stream",
     "text": [
      "CPU times: user 3min 25s, sys: 3.6 s, total: 3min 28s\n",
      "Wall time: 3min 30s\n"
     ]
    }
   ],
   "source": [
    "%%time\n",
    "mutate_searcher = MutationPlaceSearcher(17)\n",
    "pairs17_test = mutate_searcher.call(data_test)"
   ]
  },
  {
   "cell_type": "code",
   "execution_count": 316,
   "id": "2e72c1e4-964a-4b50-8671-d6a558d92790",
   "metadata": {},
   "outputs": [
    {
     "name": "stdout",
     "output_type": "stream",
     "text": [
      "Sequence with mutation: CTGGCCCATTCCCGTTGGTCTGAAAAAAGGCATT\n",
      "Analogical sequence without mutation: TTCCCGTTCATCTGAAA\n",
      "Number of mutated nucleotides: 2\n",
      "Indexes of mutated nucliotides: [8, 9] in 1 sequence\n"
     ]
    }
   ],
   "source": [
    "result = '\\n\\n'.join([f'Sequence with mutation: {pair[0]}\\nAnalogical sequence without mutation: {pair[1]}\\nNumber of mutated nucleotides: {pair[2]}\\nIndexes of mutated nucliotides: {pair[3]} in {pair[4]+1} sequence' for pair in pairs17_test])\n",
    "print(result)"
   ]
  },
  {
   "cell_type": "code",
   "execution_count": 320,
   "id": "19e01bfb-c7e4-4fcd-a62a-533eb20b27b9",
   "metadata": {},
   "outputs": [
    {
     "data": {
      "text/plain": [
       "(True, True)"
      ]
     },
     "execution_count": 320,
     "metadata": {},
     "output_type": "execute_result"
    }
   ],
   "source": [
    "test_orig_kmer in pairs17_test[0][1], test_resist_kmer in pairs17_test[0][0]"
   ]
  }
 ],
 "metadata": {
  "kernelspec": {
   "display_name": "Python 3 (ipykernel)",
   "language": "python",
   "name": "python3"
  },
  "language_info": {
   "codemirror_mode": {
    "name": "ipython",
    "version": 3
   },
   "file_extension": ".py",
   "mimetype": "text/x-python",
   "name": "python",
   "nbconvert_exporter": "python",
   "pygments_lexer": "ipython3",
   "version": "3.12.4"
  }
 },
 "nbformat": 4,
 "nbformat_minor": 5
}
